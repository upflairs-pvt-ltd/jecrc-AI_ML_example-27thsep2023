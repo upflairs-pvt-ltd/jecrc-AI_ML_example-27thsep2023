{
 "cells": [
  {
   "cell_type": "code",
   "execution_count": 1,
   "id": "9fa2bb02-e4a7-4e05-95b0-bbe036701820",
   "metadata": {},
   "outputs": [],
   "source": [
    "import pandas as pd"
   ]
  },
  {
   "cell_type": "code",
   "execution_count": 2,
   "id": "5e5d3182-6940-481a-9193-8599bdc66e0f",
   "metadata": {},
   "outputs": [],
   "source": [
    "dictio1 = {'name':['rahul','rocky','vinod'],'math':[85,32,52],'science':[52,45,6]}"
   ]
  },
  {
   "cell_type": "code",
   "execution_count": 3,
   "id": "ace436f1-7d95-4324-9b22-334c8c18f637",
   "metadata": {},
   "outputs": [
    {
     "data": {
      "text/plain": [
       "{'name': ['rahul', 'rocky', 'vinod'],\n",
       " 'math': [85, 32, 52],\n",
       " 'science': [52, 45, 6]}"
      ]
     },
     "execution_count": 3,
     "metadata": {},
     "output_type": "execute_result"
    }
   ],
   "source": [
    "dictio1"
   ]
  },
  {
   "cell_type": "code",
   "execution_count": null,
   "id": "e76dd5c4-f8d8-4d89-8ef6-ad9caffb7f9a",
   "metadata": {},
   "outputs": [],
   "source": [
    "pd.DataFrame"
   ]
  },
  {
   "cell_type": "code",
   "execution_count": null,
   "id": "1536aed1-180b-430c-aeea-ca6a5afcd79d",
   "metadata": {},
   "outputs": [],
   "source": []
  },
  {
   "cell_type": "code",
   "execution_count": null,
   "id": "43780c90-1c65-44ae-bbc0-5977f25c5bd3",
   "metadata": {},
   "outputs": [],
   "source": []
  },
  {
   "cell_type": "code",
   "execution_count": null,
   "id": "fd956897-8594-4336-a24b-0362b2d12f12",
   "metadata": {},
   "outputs": [],
   "source": []
  },
  {
   "cell_type": "code",
   "execution_count": null,
   "id": "23102ca4-c9db-4a2d-b3d8-d5d3364e236f",
   "metadata": {},
   "outputs": [],
   "source": []
  },
  {
   "cell_type": "code",
   "execution_count": null,
   "id": "35640206-89ca-40a4-9f29-902c54754c2c",
   "metadata": {},
   "outputs": [],
   "source": []
  },
  {
   "cell_type": "code",
   "execution_count": null,
   "id": "b8063a79-b943-42ce-be05-5bb910664bb0",
   "metadata": {},
   "outputs": [],
   "source": []
  },
  {
   "cell_type": "code",
   "execution_count": null,
   "id": "0678b040-39cb-40b1-a3a6-342d0fe89b50",
   "metadata": {},
   "outputs": [],
   "source": []
  }
 ],
 "metadata": {
  "kernelspec": {
   "display_name": "Python 3 (ipykernel)",
   "language": "python",
   "name": "python3"
  },
  "language_info": {
   "codemirror_mode": {
    "name": "ipython",
    "version": 3
   },
   "file_extension": ".py",
   "mimetype": "text/x-python",
   "name": "python",
   "nbconvert_exporter": "python",
   "pygments_lexer": "ipython3",
   "version": "3.11.5"
  }
 },
 "nbformat": 4,
 "nbformat_minor": 5
}
